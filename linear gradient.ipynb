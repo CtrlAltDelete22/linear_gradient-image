{
 "cells": [
  {
   "cell_type": "code",
   "execution_count": 13,
   "id": "c465e3a0-6f11-443a-b2b3-524bc45b9ee3",
   "metadata": {},
   "outputs": [],
   "source": [
    "\n",
    "import numpy as np\n",
    "import cv2\n",
    "import math"
   ]
  },
  {
   "cell_type": "code",
   "execution_count": 14,
   "id": "f049b7b4-d778-4241-81c5-b1b33d6cc0e2",
   "metadata": {},
   "outputs": [
    {
     "data": {
      "text/plain": [
       "-1"
      ]
     },
     "execution_count": 14,
     "metadata": {},
     "output_type": "execute_result"
    }
   ],
   "source": [
    "heigth,width = 300,300\n",
    "img = np.zeros((heigth,width,3),dtype = np.uint8)\n",
    "#define first point and center point\n",
    "x1,y1 = 75,75\n",
    "x2,y2 = 150,150\n",
    "\n",
    "\n",
    "#calculate distance of first point and center to get third point\n",
    "dx = abs(x2-x1)\n",
    "dy = abs(y2-y1)\n",
    "newX = dx + x2\n",
    "newY = dy + y2\n",
    "#calculate distance of first point and third point \n",
    "newDx = abs(newX - x1)\n",
    "newDy = abs(newY -y1)\n",
    "#Squared distance between the points\n",
    "sq_dis = newDx**2 + newDy**2\n",
    "\n",
    "color_1 = np.array([0, 128, 255])   # orange in BGR\n",
    "color_2 = np.array([128, 0, 128])  # purple  in BGR\n",
    "#loop over pixels\n",
    "for y in range(heigth):\n",
    "    for x in range(width):\n",
    "        if sq_dis != 0:\n",
    "            #campute the factor t for every pixel(from point 1 to point 2)\n",
    "            t = ((x-x1)*newDx + (y-y1) *newDy) /sq_dis\n",
    "            #set t vlue between 0 and 1\n",
    "            t = np.clip(t, 0, 1) \n",
    "        else:\n",
    "            t = 0 #if point are the same set the value t to zero\n",
    "            # Interpolate the colors based on t\n",
    "        color = (1 - t) * color_1 + t * color_2\n",
    "        img[y,x] = color\n",
    "\n",
    "\n",
    "cv2.imshow('linear gradient image',img)\n",
    "cv2.waitKey(0)"
   ]
  },
  {
   "cell_type": "code",
   "execution_count": null,
   "id": "b423a5eb-dedc-4e52-9037-f107003e314a",
   "metadata": {},
   "outputs": [],
   "source": []
  },
  {
   "cell_type": "code",
   "execution_count": null,
   "id": "c570b60c-8727-49b0-a760-4e21eb693fa1",
   "metadata": {},
   "outputs": [],
   "source": []
  }
 ],
 "metadata": {
  "kernelspec": {
   "display_name": "Python 3 (ipykernel)",
   "language": "python",
   "name": "python3"
  },
  "language_info": {
   "codemirror_mode": {
    "name": "ipython",
    "version": 3
   },
   "file_extension": ".py",
   "mimetype": "text/x-python",
   "name": "python",
   "nbconvert_exporter": "python",
   "pygments_lexer": "ipython3",
   "version": "3.11.7"
  }
 },
 "nbformat": 4,
 "nbformat_minor": 5
}
